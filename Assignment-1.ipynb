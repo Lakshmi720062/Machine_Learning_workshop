{
 "cells": [
  {
   "cell_type": "code",
   "execution_count": null,
   "id": "eeef2ff4-483f-4e37-a648-edf61d534f55",
   "metadata": {},
   "outputs": [],
   "source": [
    "### Lists:"
   ]
  },
  {
   "cell_type": "code",
   "execution_count": null,
   "id": "1329c0c0-16d2-4f9f-9fe6-24c37a3027d6",
   "metadata": {},
   "outputs": [],
   "source": [
    "#1. Write a Python program to sum all the items in a list."
   ]
  },
  {
   "cell_type": "code",
   "execution_count": 3,
   "id": "f629045c-da6b-40cf-8f40-4c8e0c156ef3",
   "metadata": {},
   "outputs": [
    {
     "name": "stdout",
     "output_type": "stream",
     "text": [
      "1\n",
      "2\n",
      "3\n",
      "4\n",
      "5\n",
      "15\n"
     ]
    }
   ],
   "source": [
    "my_list=[1,2,3,4,5]\n",
    "l= len(my_list)\n",
    "i=0\n",
    "x=0\n",
    "while (i<l):\n",
    "    x+=my_list[i]\n",
    "    i+=1\n",
    "print(x)"
   ]
  },
  {
   "cell_type": "code",
   "execution_count": null,
   "id": "d20cda3c-1555-499e-b225-99e1dfd515ee",
   "metadata": {},
   "outputs": [],
   "source": [
    "#2. Create a function that takes a list of numbers as input and returns a new list with only the even numbers from the original list."
   ]
  },
  {
   "cell_type": "code",
   "execution_count": 37,
   "id": "0d833b90-f4b5-44d9-8eb9-2481445bebfb",
   "metadata": {},
   "outputs": [
    {
     "name": "stdout",
     "output_type": "stream",
     "text": [
      "[2, 4, 6, 8]\n"
     ]
    }
   ],
   "source": [
    "def my_fun(my_list):\n",
    "    even_num=[]\n",
    "    for i in my_list:\n",
    "        if i%2==0:\n",
    "            even_num.append(i)\n",
    "    return even_num\n",
    "my_list= [1,2,3,4,5,6,7,8]\n",
    "print(my_fun(my_list))"
   ]
  },
  {
   "cell_type": "code",
   "execution_count": null,
   "id": "b02b8779-4eb0-448a-bfe3-e063b5ee3c90",
   "metadata": {},
   "outputs": [],
   "source": [
    "#3. Write a Python program to remove duplicates from a list."
   ]
  },
  {
   "cell_type": "code",
   "execution_count": 52,
   "id": "4fb25a11-9b9e-4a41-a700-e32b0c5fb178",
   "metadata": {},
   "outputs": [
    {
     "name": "stdout",
     "output_type": "stream",
     "text": [
      "[1, 2, 3, 4, 5, 7, 8]\n"
     ]
    }
   ],
   "source": [
    "my_list= [1,2,3,4,5,1,7,4,3,8]\n",
    "new_list=[]\n",
    "for i in my_list:\n",
    "    if i not in new_list:\n",
    "        new_list.append(i)\n",
    "print(new_list)"
   ]
  },
  {
   "cell_type": "markdown",
   "id": "18a327e0-148f-4d42-9dda-014986b0a2a3",
   "metadata": {},
   "source": [
    "#4. Implement a function to find the second largest number in a list."
   ]
  },
  {
   "cell_type": "code",
   "execution_count": 77,
   "id": "e1f67eb5-f4f5-4fd3-9158-37f4d553f03c",
   "metadata": {},
   "outputs": [
    {
     "name": "stdout",
     "output_type": "stream",
     "text": [
      "7\n"
     ]
    }
   ],
   "source": [
    "def largest(my_list):\n",
    "    l= len(my_list)\n",
    "    i=0\n",
    "    j=0\n",
    "    while (l!=0):\n",
    "        if my_list[j]>i:\n",
    "            i=my_list[j]\n",
    "        j+=1\n",
    "        l-=1\n",
    "    return i\n",
    " \n",
    "my_list= [1,2,3,4,5,1,7,4,3,8]\n",
    "j=[1,2]\n",
    "second_largest=0\n",
    "for i in j:\n",
    "    l1=len(my_list)\n",
    "    while (l1!=0):\n",
    "        second_largest=largest(my_list)\n",
    "        l1-=1\n",
    "    my_list.remove(second_largest)\n",
    "print(second_largest)"
   ]
  },
  {
   "cell_type": "code",
   "execution_count": null,
   "id": "8282955e-885d-4b5b-9234-2f6d99eeb8ca",
   "metadata": {},
   "outputs": [],
   "source": [
    "#5. Write a Python program to shuffle and print a list."
   ]
  },
  {
   "cell_type": "code",
   "execution_count": 83,
   "id": "7e752272-08c9-42ba-93ce-95d5a9992135",
   "metadata": {},
   "outputs": [
    {
     "name": "stdout",
     "output_type": "stream",
     "text": [
      "[4, 5, 1, 6, 7, 2, 3, 8]\n"
     ]
    }
   ],
   "source": [
    "import random\n",
    "my_list= [1,2,3,4,5,6,7,8]\n",
    "random.shuffle(my_list)\n",
    "print(my_list)\n"
   ]
  },
  {
   "cell_type": "code",
   "execution_count": null,
   "id": "c49e763b-0b92-4d04-8291-d065623487fe",
   "metadata": {},
   "outputs": [],
   "source": [
    "### Tuples:"
   ]
  },
  {
   "cell_type": "code",
   "execution_count": null,
   "id": "68b4d1ef-cf41-4d88-8df7-7a086fc2a8d2",
   "metadata": {},
   "outputs": [],
   "source": [
    "# 1. Write a Python program to reverse a tuple."
   ]
  },
  {
   "cell_type": "code",
   "execution_count": 85,
   "id": "29dddcb0-a2fe-4988-9971-fc6a9231dfea",
   "metadata": {},
   "outputs": [
    {
     "name": "stdout",
     "output_type": "stream",
     "text": [
      "Original tuple: (1, 2, 3, 4, 5)\n",
      "Reversed tuple: (5, 4, 3, 2, 1)\n"
     ]
    }
   ],
   "source": [
    "my_tuple=(1,2,3,4,5)\n",
    "reversed_tuple = tuple(reversed(list(my_tuple)))\n",
    "\n",
    "# Print the original tuple and the reversed tuple\n",
    "print(\"Original tuple:\", my_tuple)\n",
    "print(\"Reversed tuple:\", reversed_tuple)\n",
    "    \n",
    "    "
   ]
  },
  {
   "cell_type": "code",
   "execution_count": 91,
   "id": "1d46c19e-619b-4a6d-aefa-c97c1b165630",
   "metadata": {},
   "outputs": [
    {
     "name": "stdout",
     "output_type": "stream",
     "text": [
      "Original tuple: (1, 2, 3, 4, 5)\n",
      "Reversed tuple: (5, 4, 3, 2, 1)\n"
     ]
    }
   ],
   "source": [
    "my_tuple=(1,2,3,4,5)\n",
    "# Reverse the tuple using slicing and tuple concatenation\n",
    "reversed_tuple = my_tuple[::-1]\n",
    "\n",
    "# Print the original tuple and the reversed tuple\n",
    "print(\"Original tuple:\", my_tuple)\n",
    "print(\"Reversed tuple:\", reversed_tuple)"
   ]
  },
  {
   "cell_type": "code",
   "execution_count": null,
   "id": "f72f45db-0705-4e2b-9421-ea8b6d59ecae",
   "metadata": {},
   "outputs": [],
   "source": [
    "#2. Create a function that takes two tuples as input and returns a new tuple containing elements that are common in both tuples."
   ]
  },
  {
   "cell_type": "code",
   "execution_count": 121,
   "id": "9f3e3b91-c791-48dc-9767-6c03153f2715",
   "metadata": {},
   "outputs": [
    {
     "name": "stdout",
     "output_type": "stream",
     "text": [
      "(1, 4, 5)\n"
     ]
    }
   ],
   "source": [
    "def t_com(t1,t2):\n",
    "    l1=[]\n",
    "    lt1=len(t1)\n",
    "    lt2=len(t2)\n",
    "    i=0\n",
    "    while(lt1!=0):\n",
    "        j=0\n",
    "        lt2=len(t2)\n",
    "        while(lt2!=0):\n",
    "            if t1[i]==t2[j]:\n",
    "                l1.append(t1[i])\n",
    "            j+=1\n",
    "            lt2-=1\n",
    "        i+=1\n",
    "        lt1-=1\n",
    "    t3=tuple(l1)\n",
    "    return t3\n",
    "\n",
    "t1=(1,2,3,4,5)\n",
    "t2=(4,5,8,9,1)\n",
    "print(t_com(t1,t2))"
   ]
  },
  {
   "cell_type": "code",
   "execution_count": null,
   "id": "0bd73ca2-c3d8-47c6-8bb2-b67276d31ede",
   "metadata": {},
   "outputs": [],
   "source": [
    "#3. Write a Python program to convert a tuple to a string."
   ]
  },
  {
   "cell_type": "code",
   "execution_count": 125,
   "id": "08040777-21ca-46cf-9599-44a1279febb4",
   "metadata": {},
   "outputs": [
    {
     "name": "stdout",
     "output_type": "stream",
     "text": [
      "['1', '2', '3', '4', '5']\n"
     ]
    }
   ],
   "source": [
    "t1=(1,2,3,4,5)\n",
    "strings = map(str, t1)\n",
    "t2 = list(strings)\n",
    "print(t2)"
   ]
  },
  {
   "cell_type": "code",
   "execution_count": null,
   "id": "35827552-b3bd-4a81-907c-b125cd91d8d1",
   "metadata": {},
   "outputs": [],
   "source": [
    "#4. Implement a function to find the index of an element in a tuple."
   ]
  },
  {
   "cell_type": "code",
   "execution_count": 24,
   "id": "8486f49a-8a86-4dee-a288-2a260175df73",
   "metadata": {},
   "outputs": [
    {
     "name": "stdout",
     "output_type": "stream",
     "text": [
      "(1, 2, 3, 4, 5)\n",
      "Enter the element to find the index:\n"
     ]
    },
    {
     "name": "stdin",
     "output_type": "stream",
     "text": [
      "None 4\n"
     ]
    },
    {
     "name": "stdout",
     "output_type": "stream",
     "text": [
      "index of the element is: 3\n"
     ]
    }
   ],
   "source": [
    "t1=(1,2,3,4,5)\n",
    "print(t1)\n",
    "n= int(input(print(\"Enter the element to find the index:\")))\n",
    "for i in range(len(t1)):\n",
    "    if t1[i]== n:\n",
    "        print(\"index of the element is:\", i) "
   ]
  },
  {
   "cell_type": "code",
   "execution_count": null,
   "id": "781842ff-36c6-4936-9d17-075b06c8ff07",
   "metadata": {},
   "outputs": [],
   "source": [
    "#5. Create a program to concatenate two tuples."
   ]
  },
  {
   "cell_type": "code",
   "execution_count": 28,
   "id": "3f9487f9-811c-4b02-9aaf-c9bf9b59c7c7",
   "metadata": {},
   "outputs": [
    {
     "name": "stdout",
     "output_type": "stream",
     "text": [
      "(1, 2, 3, 4, 5, 6, 7, 8, 9, 10)\n"
     ]
    }
   ],
   "source": [
    "t1=(1,2,3,4,5)\n",
    "t2=(6,7,8,9,10)\n",
    "t3=t1+t2\n",
    "print(t3)"
   ]
  },
  {
   "cell_type": "code",
   "execution_count": null,
   "id": "594f5519-fef7-4c61-837d-009122fa4abf",
   "metadata": {},
   "outputs": [],
   "source": [
    "### Dictionaries:"
   ]
  },
  {
   "cell_type": "code",
   "execution_count": null,
   "id": "7bfc3fc4-a66b-4184-8a3e-284374b2accd",
   "metadata": {},
   "outputs": [],
   "source": [
    "#1. Write a Python script to sort (ascending and descending) a dictionary by its values."
   ]
  },
  {
   "cell_type": "code",
   "execution_count": 29,
   "id": "0464db16-a8d3-48f1-b7cb-74fae5ab7abc",
   "metadata": {},
   "outputs": [
    {
     "name": "stdout",
     "output_type": "stream",
     "text": [
      "Original Dictionary: {'apple': 10, 'banana': 5, 'orange': 8, 'grape': 3}\n",
      "Sorted Dictionary (Ascending): {'grape': 3, 'banana': 5, 'orange': 8, 'apple': 10}\n",
      "Sorted Dictionary (Descending): {'apple': 10, 'orange': 8, 'banana': 5, 'grape': 3}\n"
     ]
    }
   ],
   "source": [
    "# Sample dictionary\n",
    "my_dict = {'apple': 10, 'banana': 5, 'orange': 8, 'grape': 3}\n",
    "\n",
    "# Sort the dictionary by values in ascending order\n",
    "sorted_dict_asc = dict(sorted(my_dict.items(), key=lambda x: x[1]))\n",
    "\n",
    "# Sort the dictionary by values in descending order\n",
    "sorted_dict_desc = dict(sorted(my_dict.items(), key=lambda x: x[1], reverse=True))\n",
    "\n",
    "# Print the sorted dictionaries\n",
    "print(\"Original Dictionary:\", my_dict)\n",
    "print(\"Sorted Dictionary (Ascending):\", sorted_dict_asc)\n",
    "print(\"Sorted Dictionary (Descending):\", sorted_dict_desc)\n"
   ]
  },
  {
   "cell_type": "code",
   "execution_count": null,
   "id": "70aa00e2-c00c-4fdc-9b57-edec32d735ed",
   "metadata": {},
   "outputs": [],
   "source": [
    "#2. Create a function that takes a dictionary as input and returns the sum of all its values."
   ]
  },
  {
   "cell_type": "code",
   "execution_count": 30,
   "id": "7c282a44-b0aa-4b7f-a69c-7e158d9a8f66",
   "metadata": {},
   "outputs": [
    {
     "name": "stdout",
     "output_type": "stream",
     "text": [
      "Sum of all values in the dictionary: 26\n"
     ]
    }
   ],
   "source": [
    "def sum_dict_values(dictionary):\n",
    "    # Initialize sum to 0\n",
    "    total_sum = 0\n",
    "    \n",
    "    # Iterate through the values in the dictionary and add them to the sum\n",
    "    for value in dictionary.values():\n",
    "        total_sum += value\n",
    "    \n",
    "    return total_sum\n",
    "\n",
    "# Example usage\n",
    "my_dict = {'apple': 10, 'banana': 5, 'orange': 8, 'grape': 3}\n",
    "result = sum_dict_values(my_dict)\n",
    "print(\"Sum of all values in the dictionary:\", result)\n"
   ]
  },
  {
   "cell_type": "code",
   "execution_count": null,
   "id": "0bc40ee2-3a5a-45dd-8639-2f34be63b153",
   "metadata": {},
   "outputs": [],
   "source": [
    "#3. Write a Python program to combine two dictionary adding values for common keys."
   ]
  },
  {
   "cell_type": "code",
   "execution_count": 31,
   "id": "9f812cec-930c-47ec-b9bb-4b22e2763766",
   "metadata": {},
   "outputs": [
    {
     "name": "stdout",
     "output_type": "stream",
     "text": [
      "Combined Dictionary: {'apple': 10, 'banana': 8, 'orange': 14, 'grape': 4}\n"
     ]
    }
   ],
   "source": [
    "def combine_dicts(dict1, dict2):\n",
    "    combined_dict = dict1.copy()  # Create a copy of dict1 to avoid modifying the original dict1\n",
    "    \n",
    "    for key, value in dict2.items():\n",
    "        if key in combined_dict:\n",
    "            combined_dict[key] += value  # Add the value to the existing value for the key\n",
    "        else:\n",
    "            combined_dict[key] = value  # Add a new key-value pair if the key is not in dict1\n",
    "    \n",
    "    return combined_dict\n",
    "\n",
    "# Example dictionaries\n",
    "dict1 = {'apple': 10, 'banana': 5, 'orange': 8}\n",
    "dict2 = {'banana': 3, 'orange': 6, 'grape': 4}\n",
    "\n",
    "# Combine the dictionaries using the combine_dicts function\n",
    "combined_dict = combine_dicts(dict1, dict2)\n",
    "\n",
    "print(\"Combined Dictionary:\", combined_dict)\n"
   ]
  },
  {
   "cell_type": "code",
   "execution_count": null,
   "id": "dc632a70-5234-4d0a-bb68-b72ec33d04b4",
   "metadata": {},
   "outputs": [],
   "source": [
    "#4. Implement a function to check if a given key already exists in a dictionary."
   ]
  },
  {
   "cell_type": "code",
   "execution_count": 32,
   "id": "4b9fbc46-e293-44b8-b4a1-bb862bca3c6b",
   "metadata": {},
   "outputs": [
    {
     "name": "stdout",
     "output_type": "stream",
     "text": [
      "The key 'orange' exists in the dictionary.\n"
     ]
    }
   ],
   "source": [
    "def key_exists(dictionary, key):\n",
    "    return key in dictionary\n",
    "\n",
    "# Example usage\n",
    "my_dict = {'apple': 10, 'banana': 5, 'orange': 8, 'grape': 3}\n",
    "key_to_check = 'orange'\n",
    "\n",
    "if key_exists(my_dict, key_to_check):\n",
    "    print(f\"The key '{key_to_check}' exists in the dictionary.\")\n",
    "else:\n",
    "    print(f\"The key '{key_to_check}' does not exist in the dictionary.\")\n"
   ]
  },
  {
   "cell_type": "code",
   "execution_count": null,
   "id": "3a1b02cb-c939-4d9a-b29b-bf691713520e",
   "metadata": {},
   "outputs": [],
   "source": [
    "#5. Create a program to iterate over dictionaries using loops and comprehensions, printing key-value pairs.\n"
   ]
  },
  {
   "cell_type": "code",
   "execution_count": 33,
   "id": "421873d6-25f7-4dc9-ba2e-5c33b680a2cf",
   "metadata": {},
   "outputs": [
    {
     "name": "stdout",
     "output_type": "stream",
     "text": [
      "Using a loop:\n",
      "Key: apple, Value: 10\n",
      "Key: banana, Value: 5\n",
      "Key: orange, Value: 8\n",
      "Key: grape, Value: 3\n",
      "\n",
      "Using a comprehension:\n",
      "Key: apple, Value: 10\n",
      "Key: banana, Value: 5\n",
      "Key: orange, Value: 8\n",
      "Key: grape, Value: 3\n"
     ]
    },
    {
     "data": {
      "text/plain": [
       "[None, None, None, None]"
      ]
     },
     "execution_count": 33,
     "metadata": {},
     "output_type": "execute_result"
    }
   ],
   "source": [
    "# Sample dictionary\n",
    "my_dict = {'apple': 10, 'banana': 5, 'orange': 8, 'grape': 3}\n",
    "\n",
    "# Using a loop to iterate over the dictionary and print key-value pairs\n",
    "print(\"Using a loop:\")\n",
    "for key, value in my_dict.items():\n",
    "    print(f\"Key: {key}, Value: {value}\")\n",
    "\n",
    "# Using a comprehension to iterate over the dictionary and print key-value pairs\n",
    "print(\"\\nUsing a comprehension:\")\n",
    "[print(f\"Key: {key}, Value: {value}\") for key, value in my_dict.items()]\n"
   ]
  },
  {
   "cell_type": "code",
   "execution_count": null,
   "id": "9a31c769-a48d-4bbf-9fcb-5d66e23551d7",
   "metadata": {},
   "outputs": [],
   "source": [
    "### Sets:"
   ]
  },
  {
   "cell_type": "code",
   "execution_count": null,
   "id": "c261663e-c979-4ea6-906e-b8091f416142",
   "metadata": {},
   "outputs": [],
   "source": [
    "#1. Write a Python program to create a set."
   ]
  },
  {
   "cell_type": "code",
   "execution_count": 34,
   "id": "a511c687-df95-4252-a1ff-088ce67ed5df",
   "metadata": {},
   "outputs": [
    {
     "name": "stdout",
     "output_type": "stream",
     "text": [
      "Set: {'banana', 'apple', 'cherry'}\n"
     ]
    }
   ],
   "source": [
    "# Create a set using curly braces {}\n",
    "my_set = {'apple', 'banana', 'cherry'}\n",
    "\n",
    "# Print the set\n",
    "print(\"Set:\", my_set)\n"
   ]
  },
  {
   "cell_type": "code",
   "execution_count": null,
   "id": "af6244af-7e79-4c8a-b5a8-21e18b9d52ba",
   "metadata": {},
   "outputs": [],
   "source": [
    "#2. Create a function that takes two sets as input and returns a new set containing elements that are common in both sets.\n"
   ]
  },
  {
   "cell_type": "code",
   "execution_count": 35,
   "id": "e6648462-f0ab-43df-b90d-28c12df98f9d",
   "metadata": {},
   "outputs": [
    {
     "name": "stdout",
     "output_type": "stream",
     "text": [
      "Set 1: {1, 2, 3, 4, 5}\n",
      "Set 2: {3, 4, 5, 6, 7}\n",
      "Common Elements: {3, 4, 5}\n"
     ]
    }
   ],
   "source": [
    "def common_elements(set1, set2):\n",
    "    return set1.intersection(set2)\n",
    "\n",
    "# Example sets\n",
    "set1 = {1, 2, 3, 4, 5}\n",
    "set2 = {3, 4, 5, 6, 7}\n",
    "\n",
    "# Find the common elements using the common_elements function\n",
    "common_set = common_elements(set1, set2)\n",
    "\n",
    "print(\"Set 1:\", set1)\n",
    "print(\"Set 2:\", set2)\n",
    "print(\"Common Elements:\", common_set)\n"
   ]
  },
  {
   "cell_type": "code",
   "execution_count": null,
   "id": "c45d0ea2-a9da-4f4d-9496-de68cef68276",
   "metadata": {},
   "outputs": [],
   "source": [
    "#3. Write a Python program to find the difference between two sets."
   ]
  },
  {
   "cell_type": "code",
   "execution_count": 36,
   "id": "9602f9eb-c708-4fee-88e5-9ed3bcf3b239",
   "metadata": {},
   "outputs": [
    {
     "name": "stdout",
     "output_type": "stream",
     "text": [
      "Set 1: {1, 2, 3, 4, 5}\n",
      "Set 2: {3, 4, 5, 6, 7}\n",
      "Difference between Set 1 and Set 2: {1, 2}\n"
     ]
    }
   ],
   "source": [
    "def set_difference(set1, set2):\n",
    "    return set1.difference(set2)\n",
    "\n",
    "# Example sets\n",
    "set1 = {1, 2, 3, 4, 5}\n",
    "set2 = {3, 4, 5, 6, 7}\n",
    "\n",
    "# Find the difference using the set_difference function\n",
    "difference_set = set_difference(set1, set2)\n",
    "\n",
    "print(\"Set 1:\", set1)\n",
    "print(\"Set 2:\", set2)\n",
    "print(\"Difference between Set 1 and Set 2:\", difference_set)\n"
   ]
  },
  {
   "cell_type": "code",
   "execution_count": null,
   "id": "42ddd906-474a-47ea-81e0-42dcc41e743e",
   "metadata": {},
   "outputs": [],
   "source": [
    "#4. Implement a function to check if a set is a subset of another set."
   ]
  },
  {
   "cell_type": "code",
   "execution_count": 37,
   "id": "238a99e8-90eb-4dfd-90b3-625d146fc7d1",
   "metadata": {},
   "outputs": [
    {
     "name": "stdout",
     "output_type": "stream",
     "text": [
      "Is set1 a subset of set2? True\n",
      "Is set3 a subset of set2? False\n"
     ]
    }
   ],
   "source": [
    "def is_subset(set1, set2):\n",
    "    return set1.issubset(set2)\n",
    "\n",
    "# Example sets\n",
    "set1 = {1, 2, 3}\n",
    "set2 = {1, 2, 3, 4, 5}\n",
    "set3 = {4, 5, 6}\n",
    "\n",
    "# Check if set1 is a subset of set2\n",
    "print(\"Is set1 a subset of set2?\", is_subset(set1, set2))\n",
    "\n",
    "# Check if set3 is a subset of set2\n",
    "print(\"Is set3 a subset of set2?\", is_subset(set3, set2))\n"
   ]
  },
  {
   "cell_type": "code",
   "execution_count": null,
   "id": "840523e8-df7a-4b79-8603-de121052f59c",
   "metadata": {},
   "outputs": [],
   "source": [
    "#5. Create a program to perform set operations like union, intersection, difference, and symmetric difference."
   ]
  }
 ],
 "metadata": {
  "kernelspec": {
   "display_name": "Python 3 (ipykernel)",
   "language": "python",
   "name": "python3"
  },
  "language_info": {
   "codemirror_mode": {
    "name": "ipython",
    "version": 3
   },
   "file_extension": ".py",
   "mimetype": "text/x-python",
   "name": "python",
   "nbconvert_exporter": "python",
   "pygments_lexer": "ipython3",
   "version": "3.11.7"
  }
 },
 "nbformat": 4,
 "nbformat_minor": 5
}
